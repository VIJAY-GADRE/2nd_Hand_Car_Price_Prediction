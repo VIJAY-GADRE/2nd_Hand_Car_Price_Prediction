{
 "cells": [
  {
   "cell_type": "code",
   "execution_count": 1,
   "id": "314f68e0",
   "metadata": {},
   "outputs": [],
   "source": [
    "import numpy as np\n",
    "import pandas as pd\n",
    "import matplotlib.pyplot as plt\n",
    "import seaborn as sns\n",
    "sns.set()\n",
    "\n",
    "from sklearn.metrics import r2_score, mean_squared_error as mse, mean_absolute_percentage_error as mape"
   ]
  },
  {
   "cell_type": "code",
   "execution_count": 2,
   "id": "a89486c3",
   "metadata": {},
   "outputs": [],
   "source": [
    "data_preprocessed = pd.read_csv('Data_Preprocessed.csv')\n",
    "\n",
    "targets = data_preprocessed['log_price']\n",
    "inputs = data_preprocessed.drop(['log_price'], axis=1)"
   ]
  },
  {
   "cell_type": "code",
   "execution_count": 3,
   "id": "b555be96",
   "metadata": {},
   "outputs": [],
   "source": [
    "from sklearn.preprocessing import StandardScaler\n",
    "\n",
    "Scaler = StandardScaler().fit(inputs)\n",
    "inputs_scaled = Scaler.transform(inputs)"
   ]
  },
  {
   "cell_type": "code",
   "execution_count": 4,
   "id": "e8ba4f80",
   "metadata": {},
   "outputs": [],
   "source": [
    "from sklearn.model_selection import train_test_split\n",
    "x_train, x_test, y_train, y_test = train_test_split(inputs_scaled, targets, test_size=0.2, random_state=42)"
   ]
  },
  {
   "cell_type": "markdown",
   "id": "c3351471",
   "metadata": {},
   "source": [
    "# 1. Linear Regression"
   ]
  },
  {
   "cell_type": "code",
   "execution_count": 5,
   "id": "9b64d999",
   "metadata": {},
   "outputs": [
    {
     "name": "stdout",
     "output_type": "stream",
     "text": [
      "\n",
      "LR Training Accuracy is: \n",
      "R2_Score: 0.75 \n",
      "MSE: 0.19 \n",
      "MAPE: 0.03\n",
      "\n",
      "LR Testing Accuracy is: \n",
      "R2_Score: 0.76 \n",
      "MSE: 0.2 \n",
      "MAPE: 0.03\n"
     ]
    }
   ],
   "source": [
    "from sklearn.linear_model import LinearRegression\n",
    "\n",
    "lr = LinearRegression(n_jobs=-1)\n",
    "lr.fit(x_train, y_train)\n",
    "\n",
    "LR_y_pred_train = lr.predict(x_train)\n",
    "print('\\nLR Training Accuracy is:',\n",
    "     '\\nR2_Score:', r2_score(y_train, LR_y_pred_train).round(2),\n",
    "     '\\nMSE:', mse(y_train, LR_y_pred_train).round(2),\n",
    "     '\\nMAPE:', mape(y_train, LR_y_pred_train).round(2))\n",
    "\n",
    "LR_y_pred_test = lr.predict(x_test)\n",
    "print('\\nLR Testing Accuracy is:',\n",
    "     '\\nR2_Score:', r2_score(y_test, LR_y_pred_test).round(2),\n",
    "     '\\nMSE:', mse(y_test, LR_y_pred_test).round(2),\n",
    "     '\\nMAPE:', mape(y_test, LR_y_pred_test).round(2))"
   ]
  },
  {
   "cell_type": "markdown",
   "id": "7c72b9c7",
   "metadata": {},
   "source": [
    "# 2. Extra Trees Regressor"
   ]
  },
  {
   "cell_type": "code",
   "execution_count": 6,
   "id": "5dfaa6fb",
   "metadata": {},
   "outputs": [
    {
     "name": "stderr",
     "output_type": "stream",
     "text": [
      "/Users/vijaygadre/opt/anaconda3/envs/boost/lib/python3.9/site-packages/sklearn/ensemble/_forest.py:396: FutureWarning: Criterion 'mse' was deprecated in v1.0 and will be removed in version 1.2. Use `criterion='squared_error'` which is equivalent.\n",
      "  warn(\n"
     ]
    },
    {
     "name": "stdout",
     "output_type": "stream",
     "text": [
      "\n",
      "ETR Training Accuracy is: \n",
      "R2_Score: 0.77 \n",
      "MSE: 0.17 \n",
      "MAPE: 0.03\n",
      "\n",
      "ETR Testing Accuracy is: \n",
      "R2_Score: 0.76 \n",
      "MSE: 0.19 \n",
      "MAPE: 0.03\n"
     ]
    }
   ],
   "source": [
    "from sklearn.ensemble import ExtraTreesRegressor\n",
    "\n",
    "etr = ExtraTreesRegressor(bootstrap=False, ccp_alpha=0.0, criterion='mse', \n",
    "                          max_depth=9, max_features=1.0, max_leaf_nodes=None, \n",
    "                          max_samples=None, min_impurity_decrease=0.001, \n",
    "                          min_samples_leaf=3, min_samples_split=2, min_weight_fraction_leaf=0.0, \n",
    "                          n_estimators=250, n_jobs=-1, oob_score=False, random_state=8269, \n",
    "                          verbose=0, warm_start=False)\n",
    "etr.fit(x_train, y_train)\n",
    "\n",
    "ETR_y_pred_train = etr.predict(x_train)\n",
    "print('\\nETR Training Accuracy is:',\n",
    "     '\\nR2_Score:', r2_score(y_train, ETR_y_pred_train).round(2),\n",
    "     '\\nMSE:', mse(y_train, ETR_y_pred_train).round(2),\n",
    "     '\\nMAPE:', mape(y_train, ETR_y_pred_train).round(2))\n",
    "\n",
    "ETR_y_pred_test = etr.predict(x_test)\n",
    "print('\\nETR Testing Accuracy is:',\n",
    "     '\\nR2_Score:', r2_score(y_test, ETR_y_pred_test).round(2),\n",
    "     '\\nMSE:', mse(y_test, ETR_y_pred_test).round(2),\n",
    "     '\\nMAPE:', mape(y_test, ETR_y_pred_test).round(2))"
   ]
  },
  {
   "cell_type": "markdown",
   "id": "190402c1",
   "metadata": {},
   "source": [
    "# Random Forest Regressor"
   ]
  },
  {
   "cell_type": "code",
   "execution_count": 7,
   "id": "1b8c7b51",
   "metadata": {},
   "outputs": [
    {
     "name": "stdout",
     "output_type": "stream",
     "text": [
      "\n",
      "RF Training Accuracy is: \n",
      "R2_Score: 0.76 \n",
      "MSE: 0.18 \n",
      "MAPE: 0.03\n",
      "\n",
      "RF Testing Accuracy is: \n",
      "R2_Score: 0.73 \n",
      "MSE: 0.22 \n",
      "MAPE: 0.04\n"
     ]
    }
   ],
   "source": [
    "from sklearn.ensemble import RandomForestRegressor\n",
    "\n",
    "rf = RandomForestRegressor(bootstrap=False, ccp_alpha=0.0, criterion='squared_error', max_depth=7, \n",
    "                           max_features='sqrt', max_leaf_nodes=None, max_samples=None, min_impurity_decrease=0, \n",
    "                           min_samples_leaf=3, min_samples_split=7, min_weight_fraction_leaf=0.0, n_estimators=140, \n",
    "                           n_jobs=-1, oob_score=False, random_state=6397, verbose=0, warm_start=False)\n",
    "\n",
    "rf.fit(x_train, y_train)\n",
    "\n",
    "RFR_y_pred_train = rf.predict(x_train)\n",
    "print('\\nRF Training Accuracy is:',\n",
    "     '\\nR2_Score:', r2_score(y_train, RFR_y_pred_train).round(2),\n",
    "     '\\nMSE:', mse(y_train, RFR_y_pred_train).round(2),\n",
    "     '\\nMAPE:', mape(y_train, RFR_y_pred_train).round(2))\n",
    "\n",
    "RFR_y_pred_test = rf.predict(x_test)\n",
    "print('\\nRF Testing Accuracy is:',\n",
    "     '\\nR2_Score:', r2_score(y_test, RFR_y_pred_test).round(2),\n",
    "     '\\nMSE:', mse(y_test, RFR_y_pred_test).round(2),\n",
    "     '\\nMAPE:', mape(y_test, RFR_y_pred_test).round(2))"
   ]
  },
  {
   "cell_type": "markdown",
   "id": "7ee9ed26",
   "metadata": {},
   "source": [
    "# Light Gradient Boosting Machine"
   ]
  },
  {
   "cell_type": "code",
   "execution_count": 8,
   "id": "0a1e2a14",
   "metadata": {},
   "outputs": [
    {
     "name": "stdout",
     "output_type": "stream",
     "text": [
      "[LightGBM] [Warning] bagging_freq is set=0, subsample_freq=0 will be ignored. Current value: bagging_freq=0\n",
      "[LightGBM] [Warning] bagging_fraction is set=0.4, subsample=1.0 will be ignored. Current value: bagging_fraction=0.4\n",
      "\n",
      "LGBM Training Accuracy is: \n",
      "R2_Score: 0.83 \n",
      "MSE: 0.13 \n",
      "MAPE: 0.03\n",
      "\n",
      "LGBM Testing Accuracy is: \n",
      "R2_Score: 0.8 \n",
      "MSE: 0.16 \n",
      "MAPE: 0.03\n"
     ]
    }
   ],
   "source": [
    "from lightgbm import LGBMRegressor\n",
    "\n",
    "lgbm = LGBMRegressor(bagging_fraction=0.4, bagging_freq=0, boosting_type='gbdt', class_weight=None, \n",
    "                     colsample_bytree=1.0, importance_type='split', learning_rate=0.3, \n",
    "                     max_depth=-1, min_child_samples=26, min_child_weight=0.001, min_split_gain=0.3, \n",
    "                     n_estimators=250, n_jobs=-1, num_leaves=30, objective=None, random_state=6397, \n",
    "                     reg_alpha=0.005, reg_lambda=1, silent='warn', subsample=1.0, subsample_for_bin=200000, \n",
    "                     subsample_freq=0)\n",
    "\n",
    "lgbm.fit(x_train, y_train)\n",
    "\n",
    "LGBM_y_pred_train = lgbm.predict(x_train)\n",
    "print('\\nLGBM Training Accuracy is:',\n",
    "     '\\nR2_Score:', r2_score(y_train, LGBM_y_pred_train).round(2),\n",
    "     '\\nMSE:', mse(y_train, LGBM_y_pred_train).round(2),\n",
    "     '\\nMAPE:', mape(y_train, LGBM_y_pred_train).round(2))\n",
    "\n",
    "LGBM_y_pred_test = lgbm.predict(x_test)\n",
    "print('\\nLGBM Testing Accuracy is:',\n",
    "     '\\nR2_Score:', r2_score(y_test, LGBM_y_pred_test).round(2),\n",
    "     '\\nMSE:', mse(y_test, LGBM_y_pred_test).round(2),\n",
    "     '\\nMAPE:', mape(y_test, LGBM_y_pred_test).round(2))"
   ]
  },
  {
   "cell_type": "markdown",
   "id": "5a486a96",
   "metadata": {},
   "source": [
    "# Best Model"
   ]
  },
  {
   "cell_type": "code",
   "execution_count": 9,
   "id": "e61a351b",
   "metadata": {},
   "outputs": [
    {
     "data": {
      "text/html": [
       "<div>\n",
       "<style scoped>\n",
       "    .dataframe tbody tr th:only-of-type {\n",
       "        vertical-align: middle;\n",
       "    }\n",
       "\n",
       "    .dataframe tbody tr th {\n",
       "        vertical-align: top;\n",
       "    }\n",
       "\n",
       "    .dataframe thead th {\n",
       "        text-align: right;\n",
       "    }\n",
       "</style>\n",
       "<table border=\"1\" class=\"dataframe\">\n",
       "  <thead>\n",
       "    <tr style=\"text-align: right;\">\n",
       "      <th></th>\n",
       "      <th>Model</th>\n",
       "      <th>R2</th>\n",
       "      <th>MSE</th>\n",
       "      <th>MAPE</th>\n",
       "    </tr>\n",
       "  </thead>\n",
       "  <tbody>\n",
       "    <tr>\n",
       "      <th>3</th>\n",
       "      <td>LGBM</td>\n",
       "      <td>0.83</td>\n",
       "      <td>0.13</td>\n",
       "      <td>0.03</td>\n",
       "    </tr>\n",
       "    <tr>\n",
       "      <th>1</th>\n",
       "      <td>ETR</td>\n",
       "      <td>0.77</td>\n",
       "      <td>0.17</td>\n",
       "      <td>0.03</td>\n",
       "    </tr>\n",
       "    <tr>\n",
       "      <th>2</th>\n",
       "      <td>RFR</td>\n",
       "      <td>0.76</td>\n",
       "      <td>0.18</td>\n",
       "      <td>0.03</td>\n",
       "    </tr>\n",
       "    <tr>\n",
       "      <th>0</th>\n",
       "      <td>LR</td>\n",
       "      <td>0.75</td>\n",
       "      <td>0.19</td>\n",
       "      <td>0.03</td>\n",
       "    </tr>\n",
       "  </tbody>\n",
       "</table>\n",
       "</div>"
      ],
      "text/plain": [
       "  Model    R2   MSE  MAPE\n",
       "3  LGBM  0.83  0.13  0.03\n",
       "1   ETR  0.77  0.17  0.03\n",
       "2   RFR  0.76  0.18  0.03\n",
       "0    LR  0.75  0.19  0.03"
      ]
     },
     "execution_count": 9,
     "metadata": {},
     "output_type": "execute_result"
    }
   ],
   "source": [
    "models = [['LR', \n",
    "           r2_score(y_train, LR_y_pred_train).round(2), \n",
    "           mse(y_train, LR_y_pred_train).round(2), \n",
    "           mape(y_train, LR_y_pred_train).round(2)],\n",
    "          \n",
    "          ['ETR', \n",
    "           r2_score(y_train, ETR_y_pred_train).round(2),\n",
    "           mse(y_train, ETR_y_pred_train).round(2),\n",
    "           mape(y_train, ETR_y_pred_train).round(2)],\n",
    "         \n",
    "         ['RFR', \n",
    "          r2_score(y_train, RFR_y_pred_train).round(2),\n",
    "          mse(y_train, RFR_y_pred_train).round(2),\n",
    "          mape(y_train, RFR_y_pred_train).round(2)],\n",
    "         \n",
    "         ['LGBM', \n",
    "          r2_score(y_train, LGBM_y_pred_train).round(2),\n",
    "          mse(y_train, LGBM_y_pred_train).round(2),\n",
    "          mape(y_train, LGBM_y_pred_train).round(2)]\n",
    "         ]\n",
    "\n",
    "models = pd.DataFrame(data=models, columns=['Model', 'R2', 'MSE', 'MAPE'])\n",
    "models.sort_values(by='R2', ascending=False)"
   ]
  },
  {
   "cell_type": "markdown",
   "id": "e230c473",
   "metadata": {},
   "source": [
    "# Plot and Compare Targets and its Prediction"
   ]
  },
  {
   "cell_type": "code",
   "execution_count": 10,
   "id": "43de7984",
   "metadata": {},
   "outputs": [
    {
     "data": {
      "text/plain": [
       "<seaborn.axisgrid.FacetGrid at 0x7faf2099ef70>"
      ]
     },
     "execution_count": 10,
     "metadata": {},
     "output_type": "execute_result"
    },
    {
     "data": {
      "image/png": "[encoded data removed]",
      "text/plain": [
       "<Figure size 432x288 with 1 Axes>"
      ]
     },
     "metadata": {
      "needs_background": "light"
     },
     "output_type": "display_data"
    },
    {
     "data": {
      "image/png": "[encoded data removed]",
      "text/plain": [
       "<Figure size 360x360 with 1 Axes>"
      ]
     },
     "metadata": {
      "needs_background": "light"
     },
     "output_type": "display_data"
    }
   ],
   "source": [
    "y_hat = lgbm.predict(x_train)\n",
    "\n",
    "plt.scatter(y_train, y_hat)\n",
    "plt.xlabel('y_train (targets)')\n",
    "plt.ylabel('y_hat (Predictions)')\n",
    "\n",
    "residual = y_train - y_hat\n",
    "sns.displot(residual)"
   ]
  },
  {
   "cell_type": "markdown",
   "id": "542fac79",
   "metadata": {},
   "source": [
    "# Testing"
   ]
  },
  {
   "cell_type": "markdown",
   "id": "6f82ea15",
   "metadata": {},
   "source": [
    "### Reset the index"
   ]
  },
  {
   "cell_type": "code",
   "execution_count": 11,
   "id": "1f840f34",
   "metadata": {},
   "outputs": [],
   "source": [
    "y_test = y_test.reset_index(drop=True)"
   ]
  },
  {
   "cell_type": "markdown",
   "id": "4a6284fd",
   "metadata": {},
   "source": [
    "### Predicting the test set"
   ]
  },
  {
   "cell_type": "code",
   "execution_count": 12,
   "id": "6a45997a",
   "metadata": {},
   "outputs": [],
   "source": [
    "y_hat_test = lgbm.predict(x_test)"
   ]
  },
  {
   "cell_type": "markdown",
   "id": "6fbb920c",
   "metadata": {},
   "source": [
    "### Plot and Compare targets and its prediction"
   ]
  },
  {
   "cell_type": "code",
   "execution_count": 13,
   "id": "2c1a8b52",
   "metadata": {},
   "outputs": [
    {
     "data": {
      "text/plain": [
       "Text(0, 0.5, 'y_hat_test (Prediction)')"
      ]
     },
     "execution_count": 13,
     "metadata": {},
     "output_type": "execute_result"
    },
    {
     "data": {
      "image/png": "[encoded data removed]",
      "text/plain": [
       "<Figure size 432x288 with 1 Axes>"
      ]
     },
     "metadata": {
      "needs_background": "light"
     },
     "output_type": "display_data"
    }
   ],
   "source": [
    "plt.scatter(y_test, y_hat_test)\n",
    "plt.xlabel('y_test (Test Target)')\n",
    "plt.ylabel('y_hat_test (Prediction)')"
   ]
  },
  {
   "cell_type": "markdown",
   "id": "01324aed",
   "metadata": {},
   "source": [
    "### Plot and Compare using Residuals"
   ]
  },
  {
   "cell_type": "code",
   "execution_count": 14,
   "id": "f77ff10d",
   "metadata": {},
   "outputs": [
    {
     "data": {
      "text/plain": [
       "<seaborn.axisgrid.FacetGrid at 0x7faf31452820>"
      ]
     },
     "execution_count": 14,
     "metadata": {},
     "output_type": "execute_result"
    },
    {
     "data": {
      "image/png": "[encoded data removed]",
      "text/plain": [
       "<Figure size 360x360 with 1 Axes>"
      ]
     },
     "metadata": {
      "needs_background": "light"
     },
     "output_type": "display_data"
    }
   ],
   "source": [
    "residual_test = np.exp(y_test) - np.exp(y_hat_test)\n",
    "sns.displot(residual_test)"
   ]
  },
  {
   "cell_type": "markdown",
   "id": "17947ece",
   "metadata": {},
   "source": [
    "### Prediction Dataset Performance"
   ]
  },
  {
   "cell_type": "code",
   "execution_count": 15,
   "id": "80aaaceb",
   "metadata": {},
   "outputs": [
    {
     "data": {
      "text/html": [
       "<div>\n",
       "<style scoped>\n",
       "    .dataframe tbody tr th:only-of-type {\n",
       "        vertical-align: middle;\n",
       "    }\n",
       "\n",
       "    .dataframe tbody tr th {\n",
       "        vertical-align: top;\n",
       "    }\n",
       "\n",
       "    .dataframe thead th {\n",
       "        text-align: right;\n",
       "    }\n",
       "</style>\n",
       "<table border=\"1\" class=\"dataframe\">\n",
       "  <thead>\n",
       "    <tr style=\"text-align: right;\">\n",
       "      <th></th>\n",
       "      <th>y_hat_test (Prediction)</th>\n",
       "      <th>y_test (targets)</th>\n",
       "      <th>Residual</th>\n",
       "      <th>Residual Percentage</th>\n",
       "    </tr>\n",
       "  </thead>\n",
       "  <tbody>\n",
       "    <tr>\n",
       "      <th>0</th>\n",
       "      <td>21804.633502</td>\n",
       "      <td>24500.0</td>\n",
       "      <td>2695.366498</td>\n",
       "      <td>11.001</td>\n",
       "    </tr>\n",
       "    <tr>\n",
       "      <th>1</th>\n",
       "      <td>5949.835169</td>\n",
       "      <td>8900.0</td>\n",
       "      <td>2950.164831</td>\n",
       "      <td>33.148</td>\n",
       "    </tr>\n",
       "    <tr>\n",
       "      <th>2</th>\n",
       "      <td>45516.063298</td>\n",
       "      <td>69900.0</td>\n",
       "      <td>24383.936702</td>\n",
       "      <td>34.884</td>\n",
       "    </tr>\n",
       "    <tr>\n",
       "      <th>3</th>\n",
       "      <td>4779.289141</td>\n",
       "      <td>7000.0</td>\n",
       "      <td>2220.710859</td>\n",
       "      <td>31.724</td>\n",
       "    </tr>\n",
       "    <tr>\n",
       "      <th>4</th>\n",
       "      <td>6437.255128</td>\n",
       "      <td>5400.0</td>\n",
       "      <td>-1037.255128</td>\n",
       "      <td>19.208</td>\n",
       "    </tr>\n",
       "    <tr>\n",
       "      <th>...</th>\n",
       "      <td>...</td>\n",
       "      <td>...</td>\n",
       "      <td>...</td>\n",
       "      <td>...</td>\n",
       "    </tr>\n",
       "    <tr>\n",
       "      <th>769</th>\n",
       "      <td>36033.068817</td>\n",
       "      <td>39500.0</td>\n",
       "      <td>3466.931183</td>\n",
       "      <td>8.777</td>\n",
       "    </tr>\n",
       "    <tr>\n",
       "      <th>770</th>\n",
       "      <td>8193.541503</td>\n",
       "      <td>8800.0</td>\n",
       "      <td>606.458497</td>\n",
       "      <td>6.892</td>\n",
       "    </tr>\n",
       "    <tr>\n",
       "      <th>771</th>\n",
       "      <td>7172.924916</td>\n",
       "      <td>12500.0</td>\n",
       "      <td>5327.075084</td>\n",
       "      <td>42.617</td>\n",
       "    </tr>\n",
       "    <tr>\n",
       "      <th>772</th>\n",
       "      <td>57332.460648</td>\n",
       "      <td>65000.0</td>\n",
       "      <td>7667.539352</td>\n",
       "      <td>11.796</td>\n",
       "    </tr>\n",
       "    <tr>\n",
       "      <th>773</th>\n",
       "      <td>9699.478494</td>\n",
       "      <td>10900.0</td>\n",
       "      <td>1200.521506</td>\n",
       "      <td>11.014</td>\n",
       "    </tr>\n",
       "  </tbody>\n",
       "</table>\n",
       "<p>774 rows × 4 columns</p>\n",
       "</div>"
      ],
      "text/plain": [
       "     y_hat_test (Prediction)  y_test (targets)      Residual  \\\n",
       "0               21804.633502           24500.0   2695.366498   \n",
       "1                5949.835169            8900.0   2950.164831   \n",
       "2               45516.063298           69900.0  24383.936702   \n",
       "3                4779.289141            7000.0   2220.710859   \n",
       "4                6437.255128            5400.0  -1037.255128   \n",
       "..                       ...               ...           ...   \n",
       "769             36033.068817           39500.0   3466.931183   \n",
       "770              8193.541503            8800.0    606.458497   \n",
       "771              7172.924916           12500.0   5327.075084   \n",
       "772             57332.460648           65000.0   7667.539352   \n",
       "773              9699.478494           10900.0   1200.521506   \n",
       "\n",
       "     Residual Percentage  \n",
       "0                 11.001  \n",
       "1                 33.148  \n",
       "2                 34.884  \n",
       "3                 31.724  \n",
       "4                 19.208  \n",
       "..                   ...  \n",
       "769                8.777  \n",
       "770                6.892  \n",
       "771               42.617  \n",
       "772               11.796  \n",
       "773               11.014  \n",
       "\n",
       "[774 rows x 4 columns]"
      ]
     },
     "execution_count": 15,
     "metadata": {},
     "output_type": "execute_result"
    }
   ],
   "source": [
    "prediction = pd.DataFrame(data=np.exp(y_hat_test),\n",
    "                         columns=['y_hat_test (Prediction)'])\n",
    "prediction['y_test (targets)'] = np.exp(y_test)\n",
    "prediction['Residual'] = residual_test\n",
    "prediction['Residual Percentage'] = np.absolute(prediction['Residual'] / prediction['y_test (targets)'] * 100).round(3)\n",
    "prediction"
   ]
  },
  {
   "cell_type": "code",
   "execution_count": 16,
   "id": "6a8d799b",
   "metadata": {},
   "outputs": [
    {
     "data": {
      "text/html": [
       "<div>\n",
       "<style scoped>\n",
       "    .dataframe tbody tr th:only-of-type {\n",
       "        vertical-align: middle;\n",
       "    }\n",
       "\n",
       "    .dataframe tbody tr th {\n",
       "        vertical-align: top;\n",
       "    }\n",
       "\n",
       "    .dataframe thead th {\n",
       "        text-align: right;\n",
       "    }\n",
       "</style>\n",
       "<table border=\"1\" class=\"dataframe\">\n",
       "  <thead>\n",
       "    <tr style=\"text-align: right;\">\n",
       "      <th></th>\n",
       "      <th>y_hat_test (Prediction)</th>\n",
       "      <th>y_test (targets)</th>\n",
       "      <th>Residual</th>\n",
       "      <th>Residual Percentage</th>\n",
       "    </tr>\n",
       "  </thead>\n",
       "  <tbody>\n",
       "    <tr>\n",
       "      <th>count</th>\n",
       "      <td>774.000000</td>\n",
       "      <td>774.000000</td>\n",
       "      <td>774.000000</td>\n",
       "      <td>774.000000</td>\n",
       "    </tr>\n",
       "    <tr>\n",
       "      <th>mean</th>\n",
       "      <td>16928.389252</td>\n",
       "      <td>18841.112041</td>\n",
       "      <td>1912.722789</td>\n",
       "      <td>32.996320</td>\n",
       "    </tr>\n",
       "    <tr>\n",
       "      <th>std</th>\n",
       "      <td>15718.921314</td>\n",
       "      <td>20314.008413</td>\n",
       "      <td>9432.034933</td>\n",
       "      <td>50.864523</td>\n",
       "    </tr>\n",
       "    <tr>\n",
       "      <th>min</th>\n",
       "      <td>1989.384993</td>\n",
       "      <td>999.000000</td>\n",
       "      <td>-35713.859367</td>\n",
       "      <td>0.028000</td>\n",
       "    </tr>\n",
       "    <tr>\n",
       "      <th>25%</th>\n",
       "      <td>7629.234745</td>\n",
       "      <td>6999.000000</td>\n",
       "      <td>-1727.418507</td>\n",
       "      <td>9.923250</td>\n",
       "    </tr>\n",
       "    <tr>\n",
       "      <th>50%</th>\n",
       "      <td>11415.920502</td>\n",
       "      <td>11931.000000</td>\n",
       "      <td>202.009790</td>\n",
       "      <td>20.915000</td>\n",
       "    </tr>\n",
       "    <tr>\n",
       "      <th>75%</th>\n",
       "      <td>19805.960055</td>\n",
       "      <td>22375.000000</td>\n",
       "      <td>3586.069375</td>\n",
       "      <td>37.688750</td>\n",
       "    </tr>\n",
       "    <tr>\n",
       "      <th>max</th>\n",
       "      <td>110732.885707</td>\n",
       "      <td>129222.000000</td>\n",
       "      <td>73106.724937</td>\n",
       "      <td>716.365000</td>\n",
       "    </tr>\n",
       "  </tbody>\n",
       "</table>\n",
       "</div>"
      ],
      "text/plain": [
       "       y_hat_test (Prediction)  y_test (targets)      Residual  \\\n",
       "count               774.000000        774.000000    774.000000   \n",
       "mean              16928.389252      18841.112041   1912.722789   \n",
       "std               15718.921314      20314.008413   9432.034933   \n",
       "min                1989.384993        999.000000 -35713.859367   \n",
       "25%                7629.234745       6999.000000  -1727.418507   \n",
       "50%               11415.920502      11931.000000    202.009790   \n",
       "75%               19805.960055      22375.000000   3586.069375   \n",
       "max              110732.885707     129222.000000  73106.724937   \n",
       "\n",
       "       Residual Percentage  \n",
       "count           774.000000  \n",
       "mean             32.996320  \n",
       "std              50.864523  \n",
       "min               0.028000  \n",
       "25%               9.923250  \n",
       "50%              20.915000  \n",
       "75%              37.688750  \n",
       "max             716.365000  "
      ]
     },
     "execution_count": 16,
     "metadata": {},
     "output_type": "execute_result"
    }
   ],
   "source": [
    "prediction.describe(include='all')"
   ]
  }
 ],
 "metadata": {
  "kernelspec": {
   "display_name": "Python 3 (ipykernel)",
   "language": "python",
   "name": "python3"
  },
  "language_info": {
   "codemirror_mode": {
    "name": "ipython",
    "version": 3
   },
   "file_extension": ".py",
   "mimetype": "text/x-python",
   "name": "python",
   "nbconvert_exporter": "python",
   "pygments_lexer": "ipython3",
   "version": "3.9.12"
  }
 },
 "nbformat": 4,
 "nbformat_minor": 5
}
